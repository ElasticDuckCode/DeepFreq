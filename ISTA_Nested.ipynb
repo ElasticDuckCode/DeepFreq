{
 "cells": [
  {
   "cell_type": "code",
   "execution_count": 45,
   "id": "eade91b1-c951-47a6-a9fe-0ca83cc2cfe0",
   "metadata": {},
   "outputs": [],
   "source": [
    "import numpy as np\n",
    "from matplotlib import pyplot as plt\n",
    "from scipy.linalg import norm, pinv\n",
    "from scipy import fft\n",
    "\n",
    "def relu(x):\n",
    "    return x * (x > 0)\n",
    "def soft_threshold(x, t):\n",
    "    return np.sign(x) * relu(np.abs(x) - t)\n",
    "def ista(A, b, l=1, maxit=50):\n",
    "    M, N = A.shape\n",
    "    #x = np.zeros([N, 1])\n",
    "    # initialize with pseudo-inverse solution\n",
    "    x = pinv(A) @ b\n",
    "    L = norm(A) ** 2\n",
    "    AHA = A.conj().T @ A\n",
    "    AH = A.conj().T\n",
    "    for _ in range(maxit):\n",
    "        x = soft_threshold(x - (1/L * AHA @ x) + (1/L * AH @ b) , l / L)\n",
    "    return x"
   ]
  },
  {
   "cell_type": "code",
   "execution_count": 74,
   "id": "b3aa874d-dca8-4414-8e2f-604877af9ae0",
   "metadata": {},
   "outputs": [],
   "source": [
    "''' ISTA on Nested Array '''\n",
    "M = 50\n",
    "N = 1000\n",
    "sig = 0.1\n",
    "N1 = M // 2\n",
    "N2 = M - N1\n",
    "\n",
    "inner = np.arange(N1)\n",
    "outer = np.arange(1, N2+1)*(N1 + 1) - 1\n",
    "\n",
    "uniform = np.arange(M).reshape(-1,1)\n",
    "nested = np.concatenate([inner, outer]).reshape(-1, 1)\n",
    "\n",
    "fgrid = fft.fftfreq(N).reshape(-1, 1)\n",
    "c = [1, 1]\n",
    "th_ind = [10, 1000-10]\n",
    "th = fgrid[th_ind]\n",
    "\n",
    "\n",
    "A = lambda x : np.exp(1j* 2*np.pi * x @ fgrid.T)\n",
    "A_u = A(uniform)\n",
    "A_n = A(nested)\n",
    "\n",
    "x = np.zeros(N)\n",
    "x[th_ind] = c\n",
    "\n",
    "# Build complex noise\n",
    "n = np.zeros(M).astype(complex)\n",
    "n.real = sig * np.random.randn(M)\n",
    "n.imag = sig * np.random.randn(M)\n",
    "\n",
    "y_u = A_u @ x + n\n",
    "y_n = A_n @ x + n"
   ]
  },
  {
   "cell_type": "code",
   "execution_count": 75,
   "id": "68d9a62f-636b-47bc-ae70-982ea3e39db5",
   "metadata": {},
   "outputs": [],
   "source": [
    "''' ULA ISTA '''\n",
    "l = 50\n",
    "maxit = 600\n",
    "S_u = np.abs(ista(A_u, y_u, l, maxit))"
   ]
  },
  {
   "cell_type": "code",
   "execution_count": 76,
   "id": "7465c5a1-6174-45ab-86db-1db7808d4c52",
   "metadata": {},
   "outputs": [],
   "source": [
    "''' Nested ISTA '''\n",
    "l = 50\n",
    "maxit = 600\n",
    "S_n = np.abs(ista(A_n, y_n, l, maxit))"
   ]
  },
  {
   "cell_type": "code",
   "execution_count": 88,
   "id": "65ded349-73c7-4e26-a92e-8ceb13fd4d2c",
   "metadata": {},
   "outputs": [
    {
     "data": {
      "image/png": "[encoded data removed]",
      "text/plain": [
       "<Figure size 432x288 with 1 Axes>"
      ]
     },
     "metadata": {
      "needs_background": "light"
     },
     "output_type": "display_data"
    }
   ],
   "source": [
    "# Plot ULA\n",
    "zoom_space = 0.01\n",
    "plt.rcParams.update({'font.size': 16})\n",
    "fig, ax = plt.subplots(figsize=(6,4))\n",
    "\n",
    "ax.plot(fft.fftshift(fgrid), fft.fftshift(S_u), linewidth=2, color=\"#990000\", label='ULA')\n",
    "ax.plot(fft.fftshift(fgrid), fft.fftshift(S_n), linewidth=2, color='#009900', label='Nested')\n",
    "y1, y2 = ax.get_ylim()\n",
    "ax.vlines(th, linestyle='--', ymin=0, ymax=y2, color='k', label='True')\n",
    "ax.set_ylim(0, y2)\n",
    "ax.set_xlabel('Frequency')\n",
    "ax.set_title('ULA ISTA')\n",
    "ax.grid(color='#99AABB', linestyle=':')\n",
    "ax.set_facecolor('#CCDDEE')\n",
    "\n",
    "# Zoomed plot\n",
    "axins = ax.inset_axes([0.05, 0.5, 0.2, 0.4])\n",
    "axins.plot(fft.fftshift(fgrid), fft.fftshift(S_u), linewidth=2, color='#990000', label='ULA')\n",
    "axins.plot(fft.fftshift(fgrid), fft.fftshift(S_n), linewidth=2, color='#009900', label='Nested')\n",
    "y1, y2 = ax.get_ylim()\n",
    "axins.vlines(th, linestyle='--', ymin=y1, ymax=y2, color='k', label='True')\n",
    "x1, x2 = th.min()-zoom_space, th.max()+zoom_space\n",
    "axins.set_xlim(x1, x2)\n",
    "axins.set_ylim(0, y2)\n",
    "axins.set_xticklabels('')\n",
    "axins.set_yticklabels('')\n",
    "axins.grid(color='#99AABB', linestyle=':')\n",
    "axins.set_facecolor('#CCDDEE')\n",
    "\n",
    "ax.indicate_inset_zoom(axins, edgecolor=\"k\")\n",
    "ax.legend()\n",
    "plt.tight_layout()\n",
    "plt.show()"
   ]
  },
  {
   "cell_type": "code",
   "execution_count": null,
   "id": "7717907d-2850-488a-8295-d56c6067afe4",
   "metadata": {},
   "outputs": [],
   "source": []
  }
 ],
 "metadata": {
  "kernelspec": {
   "display_name": "Python [conda env:torch-v1.1.0]",
   "language": "python",
   "name": "conda-env-torch-v1.1.0-py"
  },
  "language_info": {
   "codemirror_mode": {
    "name": "ipython",
    "version": 3
   },
   "file_extension": ".py",
   "mimetype": "text/x-python",
   "name": "python",
   "nbconvert_exporter": "python",
   "pygments_lexer": "ipython3",
   "version": "3.7.0"
  }
 },
 "nbformat": 4,
 "nbformat_minor": 5
}
