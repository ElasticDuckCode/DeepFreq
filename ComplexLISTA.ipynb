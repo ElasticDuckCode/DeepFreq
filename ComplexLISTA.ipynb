{
 "cells": [
  {
   "cell_type": "code",
   "execution_count": 393,
   "id": "4657fdda-780b-41a6-89bc-23a7b3e896e2",
   "metadata": {},
   "outputs": [],
   "source": [
    "from IPython.display import clear_output"
   ]
  },
  {
   "cell_type": "code",
   "execution_count": 394,
   "id": "c4f57438-6d0e-4c21-8d0a-7a13203fd6e9",
   "metadata": {},
   "outputs": [],
   "source": [
    "import time\n",
    "import numpy as np\n",
    "from torch.utils.data import Dataset, DataLoader\n",
    "from matplotlib import pyplot as plt\n",
    "from scipy.linalg import norm, pinv\n",
    "from scipy import fft"
   ]
  },
  {
   "cell_type": "code",
   "execution_count": 409,
   "id": "041d5853-5e92-4af4-86b8-c01a2d33509b",
   "metadata": {},
   "outputs": [],
   "source": [
    "import torch\n",
    "from torch.nn.functional import relu, mse_loss\n",
    "from torch.nn import Module, ReLU\n",
    "\n",
    "device = torch.device('cpu')"
   ]
  },
  {
   "cell_type": "code",
   "execution_count": 410,
   "id": "27e2df59-12ae-49fd-9ee9-af5df29300d5",
   "metadata": {},
   "outputs": [],
   "source": [
    "class sparse_dataset(Dataset):\n",
    "    def __init__(self, N, K, Nexamples):\n",
    "        self.X = np.zeros((Nexamples, N, 1))\n",
    "        for ii in range(Nexamples):\n",
    "            self.X[ii,...] = self.generate_sparse_vector(N, K)\n",
    "        #self.X *= np.random.randn(*self.X.shape)\n",
    "        self.X = torch.from_numpy(self.X)\n",
    "    \n",
    "    def __getitem__(self, i):\n",
    "        return self.X[i, ...]\n",
    "    \n",
    "    def __len__(self, ):\n",
    "        return self.X.shape[0]\n",
    "    \n",
    "    def generate_sparse_vector(self, N, K):\n",
    "        x = np.zeros((N,1))\n",
    "        x[:K,...] = 1.\n",
    "        np.random.shuffle(x)\n",
    "        return x"
   ]
  },
  {
   "cell_type": "code",
   "execution_count": 458,
   "id": "5ef4b98a-639c-4614-addb-75f6fb5ac7e0",
   "metadata": {},
   "outputs": [],
   "source": [
    "class ComplexLISTA(Module):\n",
    "    \n",
    "    def __init__(self, M, N, maxit):\n",
    "        super(ComplexLISTA, self).__init__()\n",
    "    \n",
    "        # Real and imaginary Wg and We matricies \n",
    "        self.Wre = torch.nn.Parameter(torch.zeros([N, M]), requires_grad=True)\n",
    "        self.Wrg = torch.nn.Parameter(torch.zeros([N, N]), requires_grad=True)\n",
    "        self.Wie = torch.nn.Parameter(torch.zeros([N, M]), requires_grad=True)\n",
    "        self.Wig = torch.nn.Parameter(torch.zeros([N, N]), requires_grad=True)\n",
    "        \n",
    "        # alpha and lambda hyper-parameters to LASSO/ISTA\n",
    "        #self.alpha = torch.nn.Parameter(torch.zeros(maxit), requires_grad=True)\n",
    "        #self.lamda = torch.nn.Parameter(torch.zeros(maxit), requires_grad=True)\n",
    "        self.theta = torch.nn.Parameter(torch.ones(maxit+1), requires_grad=True)\n",
    "        \n",
    "        # Save the passed values\n",
    "        self.M = M\n",
    "        self.N = N\n",
    "        self.maxit = maxit\n",
    "        self.relu = ReLU()\n",
    "\n",
    "        return\n",
    "    \n",
    "    def forward(self, yr, yi):\n",
    "        \n",
    "        Wret = torch.transpose(self.Wre, 0, 1)\n",
    "        Wiet = torch.transpose(self.Wie, 0, 1)\n",
    "        Wrgt = torch.transpose(self.Wrg, 0, 1)\n",
    "        Wigt = torch.transpose(self.Wig, 0, 1)\n",
    "                \n",
    "        # Apply We branch to y to 0-th iteration\n",
    "        zr = torch.matmul(yr, Wret) - torch.matmul(yi, Wiet)\n",
    "        zi = torch.matmul(yi, Wret) + torch.matmul(yr, Wiet)\n",
    "        \n",
    "        # Apply soft-thresholding according to Eldar's paper.\n",
    "        xabs = torch.sqrt(torch.square(zr) + torch.square(zi))\n",
    "        xr = torch.divide(zr, xabs + 1) * self.relu(xabs - self.theta[0])\n",
    "        xi = torch.divide(zi, xabs + 1) * self.relu(xabs - self.theta[0])\n",
    "\n",
    "        #soft = torch.divide(self.theta[0], self.theta[0])\n",
    "        #soft = torch.divide(self.theta[0], torch.max(xabs, self.theta[0]))\n",
    "        #soft = 1 - torch.divide(self.theta[0], relu(xabs - self.theta[0]) + self.theta[0]) \n",
    "        #soft = 1 - torch.divide(self.theta[0], self.relu(xabs - self.theta[0]) + self.theta[0]) \n",
    "        #xr = torch.multiply(zr, softr)\n",
    "        #xi = torch.multiply(zi,  softi)\n",
    "        \n",
    "        \n",
    "        for t in range(1, self.maxit+1):\n",
    "        \n",
    "            # Apply We branch to y to t-th iteration\n",
    "            ar = torch.matmul(yr, Wret) - torch.matmul(yi, Wiet)\n",
    "            ai = torch.matmul(yi, Wret) + torch.matmul(yr, Wiet)\n",
    "            \n",
    "            # Apply Wg branch to x^(t) for t-th iteration\n",
    "            br = torch.matmul(xr, Wrgt) - torch.matmul(xi, Wigt)\n",
    "            bi = torch.matmul(xi, Wrgt) + torch.matmul(xr, Wigt)\n",
    "            \n",
    "            # Add the two branches                                                                           \n",
    "            zr = ar + br\n",
    "            zi = ai + bi\n",
    "            \n",
    "            # Apply soft-thresholding\n",
    "            xabs = torch.sqrt(torch.square(zr) + torch.square(zi))\n",
    "            #xr = zr * torch.pinverse(xabs).t() * self.relu(xabs - self.theta[t])\n",
    "            #xi = zi * torch.pinverse(xabs).t() * self.relu(xabs - self.theta[t])\n",
    "            xr = torch.divide(zr, xabs + 1) * self.relu(xabs - self.theta[t])\n",
    "            xi = torch.divide(zi, xabs + 1) * self.relu(xabs - self.theta[t])\n",
    "            #soft = torch.divide(self.theta[t], self.theta[t]) \n",
    "            #soft = torch.divide(self.theta[t], torch.max(xabs, self.theta[t]))\n",
    "            #soft = 1 - torch.divide(self.theta[t], self.relu(xabs - self.theta[t]) + self.theta[t]) \n",
    "            #soft = 1\n",
    "            #xr = torch.multiply(zr, softr)\n",
    "            #xi = torch.multiply(zi, softi)\n",
    "            \n",
    "            #print(f\"{yr[0,0] = }, {zr[0,0] = }, {xr[0,0] = }, {self.theta[0] = }, {soft[0,0] = }, {self.Wre[0,0] = }, {self.Wrg[0,0] = }\")\n",
    "\n",
    "            if(torch.isnan(zr[0,0])):\n",
    "                print(zr[0,0])\n",
    "                raise Exception('Bad')            \n",
    "        return xr, xi"
   ]
  },
  {
   "cell_type": "code",
   "execution_count": 459,
   "id": "646a789f-63f6-4e75-b598-ca9f8df702e6",
   "metadata": {},
   "outputs": [
    {
     "name": "stdout",
     "output_type": "stream",
     "text": [
      "torch.complex128\n"
     ]
    }
   ],
   "source": [
    "# Create ULA and Nested Array Matricies\n",
    "M = 70\n",
    "N = 100\n",
    "sig = 0\n",
    "N1 = M // 2\n",
    "N2 = M - N1\n",
    "\n",
    "inner = np.arange(N1)\n",
    "outer = np.arange(1, N2+1)*(N1 + 1) - 1\n",
    "\n",
    "uniform = np.arange(M).reshape(-1,1)\n",
    "nested = np.concatenate([inner, outer]).reshape(-1, 1)\n",
    "\n",
    "fgrid = fft.fftfreq(N).reshape(-1, 1)\n",
    "\n",
    "complex_exp = lambda x : np.exp(1j* 2*np.pi * x )\n",
    "A_u = complex_exp(uniform @ fgrid.T)\n",
    "A_n = complex_exp(nested @ fgrid.T)\n",
    "\n",
    "A = torch.from_numpy(A_u)\n",
    "print(A.dtype)"
   ]
  },
  {
   "cell_type": "code",
   "execution_count": 460,
   "id": "596150e5-6a33-4042-89c5-799485cd5850",
   "metadata": {},
   "outputs": [],
   "source": [
    "maxit = 50\n",
    "M = 70\n",
    "N = 100\n",
    "model = ComplexLISTA(M, N, maxit)\n",
    "\n",
    "# for name, weights in model.named_parameters():\n",
    "#     print(name, weights)\n",
    "#print(model.state_dict())"
   ]
  },
  {
   "cell_type": "code",
   "execution_count": 461,
   "id": "a37dbeb5-7183-4320-ac99-6ac6abc5f95a",
   "metadata": {},
   "outputs": [
    {
     "name": "stdout",
     "output_type": "stream",
     "text": [
      "100\n"
     ]
    }
   ],
   "source": [
    "# Create training data\n",
    "epochs = 20\n",
    "batchSize = 10\n",
    "testFreq = 1\n",
    "trainingPoints = 100\n",
    "print(trainingPoints)\n",
    "testingPoints = 100\n",
    "sparsityLevel = 2\n",
    "\n",
    "dataset_training = sparse_dataset(N, sparsityLevel, trainingPoints)\n",
    "dataloader_training = DataLoader(dataset_training, \n",
    "                                 batch_size = batchSize, shuffle=True)\n",
    "dataset_testing = sparse_dataset(N, sparsityLevel, testingPoints)\n",
    "dataloader_testing = DataLoader(dataset_testing, \n",
    "                                 batch_size = 1, shuffle=False)\n",
    "batches = int(trainingPoints/batchSize)\n",
    "training_losslist = np.zeros(epochs * batches)\n",
    "testing_losslist = np.zeros(epochs * batches)"
   ]
  },
  {
   "cell_type": "code",
   "execution_count": 462,
   "id": "8a399404-ab10-4076-b234-6a62a1c46392",
   "metadata": {},
   "outputs": [],
   "source": [
    "# Initialize Wg matrix according to Eldar\n",
    "X = dataset_training[...][...,0]\n",
    "Y = X @ A_u.T\n",
    "X = X.t().numpy()\n",
    "Y = Y.t().numpy()\n",
    "Phi = Y @ pinv(X.T.conj() @ X) @ X.T.conj() # conjugates omitted since X will be real\n",
    "PhiH = torch.from_numpy(Phi.conj().T)\n",
    "L = np.max(np.abs(np.linalg.eigvals(Phi.conj().T @ Phi)))\n",
    "\n",
    "#print(model.state_dict()['Wre'])\n",
    "with torch.no_grad():\n",
    "    for name, param in model.named_parameters():\n",
    "        if 'Wre' in name:\n",
    "            param.copy_(1/L * PhiH.real)\n",
    "        if 'Wie' in name:\n",
    "            param.copy_(1/L * PhiH.imag)\n",
    "        if 'theta' in name:\n",
    "            param.copy_(0.01/L * torch.ones(model.maxit+1))\n",
    "\n",
    "#print(model.state_dict()['Wre'])"
   ]
  },
  {
   "cell_type": "code",
   "execution_count": 463,
   "id": "6efcd2d6-5443-46eb-9496-c365d6143d78",
   "metadata": {},
   "outputs": [
    {
     "name": "stdout",
     "output_type": "stream",
     "text": [
      "tensor([[nan, nan, nan,  ..., nan, nan, nan],\n",
      "        [nan, nan, nan,  ..., nan, nan, nan],\n",
      "        [nan, nan, nan,  ..., nan, nan, nan],\n",
      "        ...,\n",
      "        [nan, nan, nan,  ..., nan, nan, nan],\n",
      "        [nan, nan, nan,  ..., nan, nan, nan],\n",
      "        [nan, nan, nan,  ..., nan, nan, nan]])\n",
      "tensor([   nan,    nan,    nan,    nan,    nan,    nan,    nan,    nan,    nan,\n",
      "           nan,    nan,    nan,    nan,    nan,    nan,    nan,    nan,    nan,\n",
      "           nan,    nan,    nan,    nan,    nan,    nan,    nan,    nan,    nan,\n",
      "           nan,    nan,    nan,    nan,    nan,    nan,    nan,    nan,    nan,\n",
      "           nan,    nan,    nan,    nan,    nan,    nan,    nan,    nan,    nan,\n",
      "           nan,    nan,    nan,    nan,    nan, 0.0108])\n",
      "tensor(nan, grad_fn=<SelectBackward>)\n"
     ]
    },
    {
     "ename": "Exception",
     "evalue": "Bad",
     "output_type": "error",
     "traceback": [
      "\u001b[0;31m---------------------------------------------------------------------------\u001b[0m",
      "\u001b[0;31mException\u001b[0m                                 Traceback (most recent call last)",
      "\u001b[0;32m/tmp/ipykernel_70566/4081793987.py\u001b[0m in \u001b[0;36m<module>\u001b[0;34m\u001b[0m\n\u001b[1;32m     17\u001b[0m \u001b[0;34m\u001b[0m\u001b[0m\n\u001b[1;32m     18\u001b[0m         \u001b[0;31m# Send through model\u001b[0m\u001b[0;34m\u001b[0m\u001b[0;34m\u001b[0m\u001b[0;34m\u001b[0m\u001b[0m\n\u001b[0;32m---> 19\u001b[0;31m         \u001b[0mxpredr\u001b[0m\u001b[0;34m,\u001b[0m \u001b[0mxpredi\u001b[0m \u001b[0;34m=\u001b[0m \u001b[0mmodel\u001b[0m\u001b[0;34m(\u001b[0m\u001b[0myr\u001b[0m\u001b[0;34m,\u001b[0m \u001b[0myi\u001b[0m\u001b[0;34m)\u001b[0m\u001b[0;34m\u001b[0m\u001b[0;34m\u001b[0m\u001b[0m\n\u001b[0m\u001b[1;32m     20\u001b[0m \u001b[0;34m\u001b[0m\u001b[0m\n\u001b[1;32m     21\u001b[0m         \u001b[0mloss\u001b[0m \u001b[0;34m=\u001b[0m \u001b[0mobj\u001b[0m\u001b[0;34m(\u001b[0m\u001b[0mxpredr\u001b[0m\u001b[0;34m,\u001b[0m \u001b[0mxr\u001b[0m\u001b[0;34m)\u001b[0m \u001b[0;34m+\u001b[0m \u001b[0mobj\u001b[0m\u001b[0;34m(\u001b[0m\u001b[0mxpredi\u001b[0m\u001b[0;34m,\u001b[0m \u001b[0mxi\u001b[0m\u001b[0;34m)\u001b[0m\u001b[0;34m\u001b[0m\u001b[0;34m\u001b[0m\u001b[0m\n",
      "\u001b[0;32m~/mambaforge/envs/torch-v1.9.0/lib/python3.8/site-packages/torch/nn/modules/module.py\u001b[0m in \u001b[0;36m_call_impl\u001b[0;34m(self, *input, **kwargs)\u001b[0m\n\u001b[1;32m   1049\u001b[0m         if not (self._backward_hooks or self._forward_hooks or self._forward_pre_hooks or _global_backward_hooks\n\u001b[1;32m   1050\u001b[0m                 or _global_forward_hooks or _global_forward_pre_hooks):\n\u001b[0;32m-> 1051\u001b[0;31m             \u001b[0;32mreturn\u001b[0m \u001b[0mforward_call\u001b[0m\u001b[0;34m(\u001b[0m\u001b[0;34m*\u001b[0m\u001b[0minput\u001b[0m\u001b[0;34m,\u001b[0m \u001b[0;34m**\u001b[0m\u001b[0mkwargs\u001b[0m\u001b[0;34m)\u001b[0m\u001b[0;34m\u001b[0m\u001b[0;34m\u001b[0m\u001b[0m\n\u001b[0m\u001b[1;32m   1052\u001b[0m         \u001b[0;31m# Do not call functions when jit is used\u001b[0m\u001b[0;34m\u001b[0m\u001b[0;34m\u001b[0m\u001b[0;34m\u001b[0m\u001b[0m\n\u001b[1;32m   1053\u001b[0m         \u001b[0mfull_backward_hooks\u001b[0m\u001b[0;34m,\u001b[0m \u001b[0mnon_full_backward_hooks\u001b[0m \u001b[0;34m=\u001b[0m \u001b[0;34m[\u001b[0m\u001b[0;34m]\u001b[0m\u001b[0;34m,\u001b[0m \u001b[0;34m[\u001b[0m\u001b[0;34m]\u001b[0m\u001b[0;34m\u001b[0m\u001b[0;34m\u001b[0m\u001b[0m\n",
      "\u001b[0;32m/tmp/ipykernel_70566/402532360.py\u001b[0m in \u001b[0;36mforward\u001b[0;34m(self, yr, yi)\u001b[0m\n\u001b[1;32m     78\u001b[0m             \u001b[0;32mif\u001b[0m\u001b[0;34m(\u001b[0m\u001b[0mtorch\u001b[0m\u001b[0;34m.\u001b[0m\u001b[0misnan\u001b[0m\u001b[0;34m(\u001b[0m\u001b[0mzr\u001b[0m\u001b[0;34m[\u001b[0m\u001b[0;36m0\u001b[0m\u001b[0;34m,\u001b[0m\u001b[0;36m0\u001b[0m\u001b[0;34m]\u001b[0m\u001b[0;34m)\u001b[0m\u001b[0;34m)\u001b[0m\u001b[0;34m:\u001b[0m\u001b[0;34m\u001b[0m\u001b[0;34m\u001b[0m\u001b[0m\n\u001b[1;32m     79\u001b[0m                 \u001b[0mprint\u001b[0m\u001b[0;34m(\u001b[0m\u001b[0mzr\u001b[0m\u001b[0;34m[\u001b[0m\u001b[0;36m0\u001b[0m\u001b[0;34m,\u001b[0m\u001b[0;36m0\u001b[0m\u001b[0;34m]\u001b[0m\u001b[0;34m)\u001b[0m\u001b[0;34m\u001b[0m\u001b[0;34m\u001b[0m\u001b[0m\n\u001b[0;32m---> 80\u001b[0;31m                 \u001b[0;32mraise\u001b[0m \u001b[0mException\u001b[0m\u001b[0;34m(\u001b[0m\u001b[0;34m'Bad'\u001b[0m\u001b[0;34m)\u001b[0m\u001b[0;34m\u001b[0m\u001b[0;34m\u001b[0m\u001b[0m\n\u001b[0m\u001b[1;32m     81\u001b[0m         \u001b[0;32mreturn\u001b[0m \u001b[0mxr\u001b[0m\u001b[0;34m,\u001b[0m \u001b[0mxi\u001b[0m\u001b[0;34m\u001b[0m\u001b[0;34m\u001b[0m\u001b[0m\n",
      "\u001b[0;31mException\u001b[0m: Bad"
     ]
    }
   ],
   "source": [
    "optim = torch.optim.Adam(model.parameters(), lr=1e-12)\n",
    "obj = torch.nn.MSELoss()\n",
    "for e in range(epochs):\n",
    "    for i, data in enumerate(dataloader_training):\n",
    "\n",
    "        idx = e * batches + i\n",
    "\n",
    "        x = data.numpy().reshape(batchSize, N)\n",
    "        y = torch.from_numpy(x @ A_u.T)\n",
    "        \n",
    "        # Split data to real and complex\n",
    "        xr = data.reshape(batchSize, N).to(torch.float32)\n",
    "        xi = torch.zeros(batchSize, N).to(torch.float32)\n",
    "        \n",
    "        yr = y.real.to(torch.float32)\n",
    "        yi = y.imag.to(torch.float32)\n",
    "        \n",
    "        # Send through model\n",
    "        xpredr, xpredi = model(yr, yi)\n",
    "        \n",
    "        loss = obj(xpredr, xr) + obj(xpredi, xi)\n",
    "\n",
    "        with torch.no_grad():\n",
    "            training_losslist[idx] = loss\n",
    "\n",
    "        optim.zero_grad()\n",
    "        loss.backward()\n",
    "        \n",
    "        print(model.Wrg.grad)\n",
    "        print(model.theta.grad)        \n",
    "\n",
    "        optim.step()\n",
    "        \n",
    "        #print(\"Epoch: {}\\t Batch: {}\\t Training Loss: {}\\t\".format(e, i, training_losslist[idx]), end='\\r')"
   ]
  },
  {
   "cell_type": "code",
   "execution_count": 284,
   "id": "17f3d02c-87d5-48db-93d9-b9f700d81b47",
   "metadata": {},
   "outputs": [
    {
     "name": "stdout",
     "output_type": "stream",
     "text": [
      "0.004834003746509552\n"
     ]
    },
    {
     "data": {
      "text/plain": [
       "[<matplotlib.lines.Line2D at 0x7f983942fbe0>]"
      ]
     },
     "execution_count": 284,
     "metadata": {},
     "output_type": "execute_result"
    },
    {
     "data": {
      "image/png": "[encoded data removed]",
      "text/plain": [
       "<Figure size 432x288 with 1 Axes>"
      ]
     },
     "metadata": {
      "needs_background": "light"
     },
     "output_type": "display_data"
    }
   ],
   "source": [
    "print(training_losslist[0])\n",
    "plt.plot(training_losslist)"
   ]
  },
  {
   "cell_type": "code",
   "execution_count": 434,
   "id": "629261e3-81f8-4ba7-a3b2-1cbecfb99557",
   "metadata": {},
   "outputs": [
    {
     "data": {
      "text/plain": [
       "tensor(0.5000)"
      ]
     },
     "execution_count": 434,
     "metadata": {},
     "output_type": "execute_result"
    }
   ],
   "source": [
    "torch.pinverse(torch.tensor([[2.0]]))[0,0]\n"
   ]
  },
  {
   "cell_type": "code",
   "execution_count": 438,
   "id": "43fd5f85-e7da-4294-b9e8-21dbc35fd6fa",
   "metadata": {},
   "outputs": [
    {
     "data": {
      "text/plain": [
       "tensor([[0.5000, 0.0000, 0.0000]])"
      ]
     },
     "execution_count": 438,
     "metadata": {},
     "output_type": "execute_result"
    }
   ],
   "source": [
    "torch.pinverse(torch.tensor([[2.0], [0.0],[0.0]]))"
   ]
  },
  {
   "cell_type": "code",
   "execution_count": null,
   "id": "cf067838-97c3-44d5-976e-7ab7bf006761",
   "metadata": {},
   "outputs": [],
   "source": []
  }
 ],
 "metadata": {
  "kernelspec": {
   "display_name": "Python [conda env:torch-v1.9.0]",
   "language": "python",
   "name": "conda-env-torch-v1.9.0-py"
  },
  "language_info": {
   "codemirror_mode": {
    "name": "ipython",
    "version": 3
   },
   "file_extension": ".py",
   "mimetype": "text/x-python",
   "name": "python",
   "nbconvert_exporter": "python",
   "pygments_lexer": "ipython3",
   "version": "3.8.0"
  }
 },
 "nbformat": 4,
 "nbformat_minor": 5
}
