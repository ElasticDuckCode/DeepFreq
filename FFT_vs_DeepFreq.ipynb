{
 "cells": [
  {
   "cell_type": "markdown",
   "id": "898c1c44-75b2-49f8-99ef-6ee99ad5d8b0",
   "metadata": {},
   "source": [
    "# DeepFreq v.s. Other Frequency Representation Methods"
   ]
  },
  {
   "cell_type": "code",
   "execution_count": 1,
   "id": "02e50649",
   "metadata": {},
   "outputs": [],
   "source": [
    "import os\n",
    "import numpy as np\n",
    "import torch\n",
    "import util\n",
    "import matplotlib.pyplot as plt\n",
    "import cvxpy as cp\n",
    "\n",
    "from numpy import fft\n",
    "from scipy.linalg import dft, hankel, svd, norm, pinv\n",
    "from data import fr\n",
    "\n",
    "%matplotlib widget"
   ]
  },
  {
   "cell_type": "code",
   "execution_count": 2,
   "id": "a782f01b-14d8-4c00-99f3-cf6b573526b4",
   "metadata": {},
   "outputs": [
    {
     "name": "stdout",
     "output_type": "stream",
     "text": [
      "snr(x,n) = -22.606041885901938\n"
     ]
    }
   ],
   "source": [
    "''' Create Harmonic Signal (On-grid) '''\n",
    "def snr(signal, noise):\n",
    "    return 20 * np.log10(norm(signal) / norm(noise))\n",
    "\n",
    "# Signal parameters\n",
    "N = 1000\n",
    "M = 50\n",
    "\n",
    "# Noise parameters\n",
    "sig = 2.0\n",
    "n = np.zeros((M, 1), dtype=complex)\n",
    "n.real = sig * np.random.randn(M, 1)\n",
    "n.imag = sig * np.random.randn(M, 1)\n",
    "\n",
    "\n",
    "# Signal (in frequency)\n",
    "x = np.zeros([N, 1])\n",
    "\n",
    "# Sensor and frequncy grids\n",
    "spos = np.arange(M).reshape(-1, 1)\n",
    "fgrid = fft.fftfreq(N).reshape(-1, 1)\n",
    "\n",
    "# Measurement matrix\n",
    "A = np.exp(1j * 2*np.pi * spos @ fgrid.T)   # normalization 1/M will be be included later\n",
    "\n",
    "# signal amplitudes and angles\n",
    "c = np.asarray([1.0, 1.0]).reshape(-1, 1)\n",
    "th_ind = np.asarray([10, 100])\n",
    "#th_ind = np.random.choice(np.arange(N), size=3)\n",
    "\n",
    "th = fgrid[th_ind]\n",
    "x[th_ind] = c\n",
    "\n",
    "# Create time-domain measurements\n",
    "''' By using the A matrix, to create these sinusoids, I am enforcing frequencies to exist on the grid. '''\n",
    "y = A @ x + n\n",
    "\n",
    "print(\"snr(x,n) = {}\".format(snr(x,n)))"
   ]
  },
  {
   "cell_type": "code",
   "execution_count": 3,
   "id": "70fe2f41-ed9d-44c3-8365-50ca51bfd1ce",
   "metadata": {},
   "outputs": [
    {
     "data": {
      "application/vnd.jupyter.widget-view+json": {
       "model_id": "cf2ca526eebc45dbbb6ee97803510ad8",
       "version_major": 2,
       "version_minor": 0
      },
      "text/plain": [
       "Canvas(toolbar=Toolbar(toolitems=[('Home', 'Reset original view', 'home', 'home'), ('Back', 'Back to previous …"
      ]
     },
     "metadata": {},
     "output_type": "display_data"
    }
   ],
   "source": [
    "''' Plot Signal '''\n",
    "plt.rcParams.update({'font.size': 16})\n",
    "plt.rcParams[\"font.family\"] = \"Ubuntu\"\n",
    "fig, ax = plt.subplots(1, 2, figsize=(9, 5))\n",
    "\n",
    "ax[0].plot(y.real, label='Real')\n",
    "ax[0].plot(y.imag, label='Imag')\n",
    "ax[0].set_title(\"Time-domain Samples\")\n",
    "ax[0].set_xlabel(\"Sample\")\n",
    "ax[0].set_facecolor(\"#CCDDEE\")\n",
    "ax[0].grid(color='#99AABB', linestyle=':')\n",
    "ax[0].legend()\n",
    "\n",
    "ax[1].plot(fft.fftshift(fgrid), fft.fftshift(x))\n",
    "ax[1].set_title(\"True Frequency Representation\")\n",
    "ax[1].set_xlabel(\"Normalized Frequency\")\n",
    "ax[1].set_facecolor(\"#CCDDEE\")\n",
    "ax[1].grid(color='#99AABB', linestyle=':')\n",
    "\n",
    "plt.tight_layout()\n",
    "plt.show()"
   ]
  },
  {
   "cell_type": "code",
   "execution_count": 66,
   "id": "9ca82342-7c25-4e54-9586-89f05fc198c6",
   "metadata": {},
   "outputs": [
    {
     "name": "stdout",
     "output_type": "stream",
     "text": [
      "(1, 2, 50)\n"
     ]
    }
   ],
   "source": [
    "''' Process DeepFreq Network ''' \n",
    "y_df = np.stack([y.real, y.imag], axis=0).astype(np.float32)\n",
    "y_df = np.moveaxis(y_df, -1, 0)\n",
    "\n",
    "device = torch.device('cuda' if torch.cuda.is_available() else 'cpu')\n",
    "\n",
    "# Model paths\n",
    "fr_path = 'pretrained_models/DeepFreq/frequency_representation_module.pth'\n",
    "fc_path = 'pretrained_models/DeepFreq/frequency_counting_module.pth'\n",
    "data_dir = 'jake_dataset'\n",
    "\n",
    "# Load models\n",
    "fr_module, _, _, _, _ = util.load(fr_path, 'fr', device)\n",
    "fc_module, _, _, _, _ = util.load(fc_path, 'fc', device)\n",
    "fr_module.cpu()\n",
    "fr_module.eval()\n",
    "fc_module.cpu()\n",
    "fc_module.eval()\n",
    "\n",
    "print(y_df.shape)"
   ]
  },
  {
   "cell_type": "code",
   "execution_count": 67,
   "id": "2e728038-0910-41d6-bfdd-b863aff2cee8",
   "metadata": {},
   "outputs": [
    {
     "data": {
      "application/vnd.jupyter.widget-view+json": {
       "model_id": "e48e9047bab840458979351cbdabaa38",
       "version_major": 2,
       "version_minor": 0
      },
      "text/plain": [
       "Canvas(toolbar=Toolbar(toolitems=[('Home', 'Reset original view', 'home', 'home'), ('Back', 'Back to previous …"
      ]
     },
     "metadata": {},
     "output_type": "display_data"
    }
   ],
   "source": [
    "''' DeepFreq Representation '''\n",
    "# Process signal with network\n",
    "with torch.no_grad():\n",
    "    S_df = fr_module(torch.tensor(y_df))\n",
    "S_df = S_df.numpy()\n",
    "\n",
    "# Plot\n",
    "zoom_space = 0.01\n",
    "plt.rcParams.update({'font.size': 16})\n",
    "fig, ax = plt.subplots(figsize=(6,4))\n",
    "\n",
    "ax.plot(fft.fftshift(fgrid), S_df[0], linewidth=2, label='Frequency representation')\n",
    "y1, y2 = ax.get_ylim()\n",
    "ax.vlines(th, linestyle='--', ymin=0, ymax=y2, color='k', label='True frequency')\n",
    "ax.set_ylim(0, y2)\n",
    "ax.set_xlabel('Frequency')\n",
    "ax.set_title('DeepFreq')\n",
    "ax.grid(color='#99AABB', linestyle=':')\n",
    "ax.set_facecolor('#CCDDEE')\n",
    "\n",
    "# Zoomed plot\n",
    "axins = ax.inset_axes([0.05, 0.5, 0.2, 0.4])\n",
    "axins.plot(fft.fftshift(fgrid), S_df[0], linewidth=2, label='Frequency representation')\n",
    "y1, y2 = ax.get_ylim()\n",
    "axins.vlines(th, linestyle='--', ymin=y1, ymax=y2, color='k', label='True frequency')\n",
    "x1, x2 = th.min()-zoom_space, th.max()+zoom_space\n",
    "axins.set_xlim(x1, x2)\n",
    "axins.set_ylim(y1, y2)\n",
    "axins.set_xticklabels('')\n",
    "axins.set_yticklabels('')\n",
    "axins.grid(color='#99AABB', linestyle=':')\n",
    "axins.set_facecolor('#CCDDEE')\n",
    "\n",
    "ax.indicate_inset_zoom(axins, edgecolor=\"k\")\n",
    "\n",
    "plt.tight_layout()\n",
    "plt.show()"
   ]
  },
  {
   "cell_type": "code",
   "execution_count": 68,
   "id": "53a4eb7c-e99c-420d-9793-a6abf90adb7c",
   "metadata": {},
   "outputs": [
    {
     "data": {
      "application/vnd.jupyter.widget-view+json": {
       "model_id": "fb4ff9967150440b8f9fa03c46ed0f5a",
       "version_major": 2,
       "version_minor": 0
      },
      "text/plain": [
       "Canvas(toolbar=Toolbar(toolitems=[('Home', 'Reset original view', 'home', 'home'), ('Back', 'Back to previous …"
      ]
     },
     "metadata": {},
     "output_type": "display_data"
    }
   ],
   "source": [
    "''' Oversampled FFT, i.e. Minimum L2-norm Solution '''\n",
    "# Use pseudo-inverse of iFFT, i.e. FFT\n",
    "S_l2 = np.abs(1/M * A.conj().T @ y)\n",
    "\n",
    "# Plot\n",
    "plt.rcParams.update({'font.size': 16})\n",
    "fig, ax = plt.subplots(figsize=(6,4))\n",
    "\n",
    "ax.plot(fft.fftshift(fgrid), fft.fftshift(S_l2), linewidth=2, label='Frequency representation')\n",
    "y1, y2 = ax.get_ylim()\n",
    "ax.vlines(th, linestyle='--', ymin=0, ymax=y2, color='k', label='True frequency')\n",
    "ax.set_ylim(0, y2)\n",
    "ax.set_xlabel('Frequency')\n",
    "ax.set_title('Oversampled DFT')\n",
    "ax.grid(color='#99AABB', linestyle=':')\n",
    "ax.set_facecolor('#CCDDEE')\n",
    "\n",
    "# Zoomed plot\n",
    "axins = ax.inset_axes([0.05, 0.5, 0.2, 0.4])\n",
    "axins.plot(fft.fftshift(fgrid), fft.fftshift(S_l2), linewidth=2, label='Frequency representation')\n",
    "y1, y2 = ax.get_ylim()\n",
    "axins.vlines(th, linestyle='--', ymin=y1, ymax=y2, color='k', label='True frequency')\n",
    "x1, x2 = th.min()-zoom_space, th.max()+zoom_space\n",
    "axins.set_xlim(x1, x2)\n",
    "axins.set_ylim(y1, y2)\n",
    "axins.set_xticklabels('')\n",
    "axins.set_yticklabels('')\n",
    "axins.grid(color='#99AABB', linestyle=':')\n",
    "axins.set_facecolor('#CCDDEE')\n",
    "\n",
    "ax.indicate_inset_zoom(axins, edgecolor=\"k\")\n",
    "\n",
    "plt.tight_layout()\n",
    "plt.show()"
   ]
  },
  {
   "cell_type": "code",
   "execution_count": 69,
   "id": "1fec8275-8bd0-42d8-a0b4-7948a7b3b29d",
   "metadata": {},
   "outputs": [
    {
     "data": {
      "application/vnd.jupyter.widget-view+json": {
       "model_id": "6f14420a714e4745992f9b9f45ca839e",
       "version_major": 2,
       "version_minor": 0
      },
      "text/plain": [
       "Canvas(toolbar=Toolbar(toolitems=[('Home', 'Reset original view', 'home', 'home'), ('Back', 'Back to previous …"
      ]
     },
     "metadata": {},
     "output_type": "display_data"
    }
   ],
   "source": [
    "''' Minimum L1 Norm Solution '''\n",
    "\n",
    "x = cp.Variable(N)\n",
    "cost = cp.norm(x, 1)\n",
    "constraint = [cp.norm(A @ x - y.flatten(), 2) <= 2*sig]\n",
    "#constraint = [A @ x == y[:,0]]\n",
    "prob = cp.Problem(cp.Minimize(cost), constraint)\n",
    "prob.solve()\n",
    "S_l1 = np.abs(x.value)\n",
    "\n",
    "# Plot\n",
    "plt.rcParams.update({'font.size': 16})\n",
    "fig, ax = plt.subplots(figsize=(6,4))\n",
    "\n",
    "ax.plot(fft.fftshift(fgrid), fft.fftshift(S_l1), linewidth=2, label='Frequency representation')\n",
    "y1, y2 = ax.get_ylim()\n",
    "ax.vlines(th, linestyle='--', ymin=0, ymax=y2, color='k', label='True frequency')\n",
    "ax.set_ylim(0, y2)\n",
    "ax.set_xlabel('Frequency')\n",
    "ax.set_title('Regularized $l_1$ (CVX)')\n",
    "ax.grid(color='#99AABB', linestyle=':')\n",
    "ax.set_facecolor('#CCDDEE')\n",
    "\n",
    "# Zoomed plot\n",
    "axins = ax.inset_axes([0.05, 0.5, 0.2, 0.4])\n",
    "axins.plot(fft.fftshift(fgrid), fft.fftshift(S_l1), linewidth=2, label='Frequency representation')\n",
    "y1, y2 = ax.get_ylim()\n",
    "axins.vlines(th, linestyle='--', ymin=y1, ymax=y2, color='k', label='True frequency')\n",
    "x1, x2 = th.min()-zoom_space, th.max()+zoom_space\n",
    "axins.set_xlim(x1, x2)\n",
    "axins.set_ylim(0, y2)\n",
    "axins.set_xticklabels('')\n",
    "axins.set_yticklabels('')\n",
    "axins.grid(color='#99AABB', linestyle=':')\n",
    "axins.set_facecolor('#CCDDEE')\n",
    "\n",
    "ax.indicate_inset_zoom(axins, edgecolor=\"k\")\n",
    "\n",
    "plt.tight_layout()\n",
    "plt.show()"
   ]
  },
  {
   "cell_type": "code",
   "execution_count": 70,
   "id": "426d7ac7-ce45-44a7-9174-b4cf353bdd76",
   "metadata": {},
   "outputs": [
    {
     "data": {
      "application/vnd.jupyter.widget-view+json": {
       "model_id": "b0c792e044e04e8cb8725741c41f1666",
       "version_major": 2,
       "version_minor": 0
      },
      "text/plain": [
       "Canvas(toolbar=Toolbar(toolitems=[('Home', 'Reset original view', 'home', 'home'), ('Back', 'Back to previous …"
      ]
     },
     "metadata": {},
     "output_type": "display_data"
    }
   ],
   "source": [
    "''' Solving l1 by ISTA '''\n",
    "import numpy as np\n",
    "from scipy.linalg import norm\n",
    "\n",
    "def relu(x):\n",
    "    return x * (x > 0)\n",
    "def soft_threshold(x, t):\n",
    "    return np.sign(x) * relu(np.abs(x) - t)\n",
    "def ista(A, b, l=1, maxit=50):\n",
    "    M, N = A.shape\n",
    "    #x = np.zeros([N, 1])\n",
    "    # initialize with pseudo-inverse solution\n",
    "    x = pinv(A) @ b\n",
    "    L = norm(A) ** 2\n",
    "    AHA = A.conj().T @ A\n",
    "    AH = A.conj().T\n",
    "    for _ in range(maxit):\n",
    "        x = soft_threshold(x - (1/L * AHA @ x) + (1/L * AH @ b) , l / L)\n",
    "    return x\n",
    "    \n",
    "l = 50\n",
    "maxit = 600\n",
    "S_ista = np.abs(ista(A, y, l, maxit)) \n",
    "S_ista /= S_ista.max()\n",
    "\n",
    "# Plot\n",
    "plt.rcParams.update({'font.size': 16})\n",
    "fig, ax = plt.subplots(figsize=(6,4))\n",
    "\n",
    "ax.plot(fft.fftshift(fgrid), fft.fftshift(S_ista), linewidth=2, label='Frequency representation')\n",
    "y1, y2 = ax.get_ylim()\n",
    "ax.vlines(th, linestyle='--', ymin=0, ymax=y2, color='k', label='True frequency')\n",
    "ax.set_ylim(0, y2)\n",
    "ax.set_xlabel('Frequency')\n",
    "ax.set_title('Regularized $l_1$ (ISTA)')\n",
    "ax.grid(color='#99AABB', linestyle=':')\n",
    "ax.set_facecolor('#CCDDEE')\n",
    "\n",
    "# Zoomed plot\n",
    "axins = ax.inset_axes([0.05, 0.5, 0.2, 0.4])\n",
    "axins.plot(fft.fftshift(fgrid), fft.fftshift(S_ista), linewidth=2, label='Frequency representation')\n",
    "y1, y2 = ax.get_ylim()\n",
    "axins.vlines(th, linestyle='--', ymin=y1, ymax=y2, color='k', label='True frequency')\n",
    "x1, x2 = th.min()-zoom_space, th.max()+zoom_space\n",
    "axins.set_xlim(x1, x2)\n",
    "axins.set_ylim(0, y2)\n",
    "axins.set_xticklabels('')\n",
    "axins.set_yticklabels('')\n",
    "axins.grid(color='#99AABB', linestyle=':')\n",
    "axins.set_facecolor('#CCDDEE')\n",
    "\n",
    "ax.indicate_inset_zoom(axins, edgecolor=\"k\")\n",
    "\n",
    "plt.tight_layout()\n",
    "plt.show()"
   ]
  },
  {
   "cell_type": "code",
   "execution_count": 71,
   "id": "6e0fa014-5af7-4ead-89dc-4046dd148957",
   "metadata": {},
   "outputs": [
    {
     "data": {
      "application/vnd.jupyter.widget-view+json": {
       "model_id": "7b3a71fce68b48b2af7096c365787c7d",
       "version_major": 2,
       "version_minor": 0
      },
      "text/plain": [
       "Canvas(toolbar=Toolbar(toolitems=[('Home', 'Reset original view', 'home', 'home'), ('Back', 'Back to previous …"
      ]
     },
     "metadata": {},
     "output_type": "display_data"
    }
   ],
   "source": [
    "''' Single Snapshot MUSIC '''\n",
    "L = M//2\n",
    "Hkl = hankel(y[:L+1], y[L:])\n",
    "U, s, _ = svd(Hkl, full_matrices=True)\n",
    "U2 = U[:, len(th):] # must know source number\n",
    "projection = norm(U2.conj().T @ A[:L+1, :], axis=0)\n",
    "S_ssm = 1/projection\n",
    "S_ssm /= S_ssm.max()\n",
    "\n",
    "# Plot\n",
    "plt.rcParams.update({'font.size': 16})\n",
    "fig, ax = plt.subplots(figsize=(6,4))\n",
    "\n",
    "ax.plot(fft.fftshift(fgrid), fft.fftshift(S_ssm), linewidth=2, label='Frequency representation')\n",
    "y1, y2 = ax.get_ylim()\n",
    "ax.vlines(th, linestyle='--', ymin=y1, ymax=y2, color='gray', label='True frequency')\n",
    "ax.set_ylim(0, y2)\n",
    "ax.set_xlabel('Normalized Frequency')\n",
    "ax.set_title('Single-snapshot MUSIC')\n",
    "ax.grid(color='#99AABB', linestyle=':')\n",
    "ax.set_facecolor('#CCDDEE')\n",
    "\n",
    "# Zoomed plot\n",
    "axins = ax.inset_axes([0.05, 0.5, 0.2, 0.4])\n",
    "axins.plot(fft.fftshift(fgrid), fft.fftshift(S_ssm), linewidth=2, label='Frequency representation')\n",
    "y1, y2 = ax.get_ylim()\n",
    "axins.vlines(th, linestyle='--', ymin=y1, ymax=y2, color='gray', label='True frequency')\n",
    "x1, x2 = th.min()-zoom_space, th.max()+zoom_space\n",
    "axins.set_xlim(x1, x2)\n",
    "axins.set_ylim(0, y2)\n",
    "axins.set_xticklabels('')\n",
    "axins.set_yticklabels('')\n",
    "axins.grid(color='#99AABB', linestyle=':')\n",
    "axins.set_facecolor('#CCDDEE')\n",
    "\n",
    "ax.indicate_inset_zoom(axins, edgecolor=\"k\")\n",
    "\n",
    "plt.tight_layout()\n",
    "plt.show()"
   ]
  },
  {
   "cell_type": "code",
   "execution_count": 77,
   "id": "c767bc9c-ef2b-4bf1-80bf-88ef11c7d292",
   "metadata": {},
   "outputs": [
    {
     "data": {
      "application/vnd.jupyter.widget-view+json": {
       "model_id": "fc94a150c7564c5db00cbf8bbfecc5d8",
       "version_major": 2,
       "version_minor": 0
      },
      "text/plain": [
       "Canvas(toolbar=Toolbar(toolitems=[('Home', 'Reset original view', 'home', 'home'), ('Back', 'Back to previous …"
      ]
     },
     "metadata": {},
     "output_type": "display_data"
    }
   ],
   "source": [
    "''' Solve with LISTA '''\n",
    "def Aop(A, x):\n",
    "    # Aop - Forward model process\n",
    "    # args in -\n",
    "    #   A - measurement matrix\n",
    "    #   x - input vector\n",
    "    return torch.matmul(A,x)\n",
    "\n",
    "def softthr(x, thr):\n",
    "    # softthr - Soft thresholding operator\n",
    "    # args in -\n",
    "    #   x - input vector\n",
    "    #   thr - shrinkage threshold\n",
    "    # args out - \n",
    "    #   z - output vector\n",
    "    z = torch.abs(x) - thr\n",
    "    z = z * torch.sign(x) * (torch.abs(x) > thr).type(x.dtype) \n",
    "    return z\n",
    "\n",
    "def pbnet(A, alpha, lamb, x0, y_meas, K, testFlag=True):\n",
    "\n",
    "    x = x0.detach().clone()\n",
    "    x.requires_grad = True\n",
    "    \n",
    "    AHA = torch.matmul(torch.transpose(A, 0, 1), A)\n",
    "    AHy = torch.matmul(torch.transpose(A, 0, 1), y_meas)\n",
    "\n",
    "    if testFlag: y_meas = y_meas.detach()\n",
    "            \n",
    "    for kk in range(K):\n",
    "        y_est = Aop(A,x)\n",
    "        g = torch.matmul(AHA, x) - AHy\n",
    "        \n",
    "        x = x - alpha*g           # gradient update\n",
    "        x = softthr(x, lamb*alpha)   # proximal update\n",
    "        \n",
    "    return x\n",
    "\n",
    "# Need to represent complex numbers as matrix\n",
    "A_repr = np.block([\n",
    "    [A.real, -A.imag],\n",
    "    [A.imag, A.real]\n",
    "])\n",
    "y_repr = np.block([\n",
    "    [y.real, -y.imag],\n",
    "    [y.imag, y.real]\n",
    "])\n",
    "\n",
    "# process for network\n",
    "A_torch = torch.from_numpy(A_repr)\n",
    "y_torch = torch.from_numpy(y_repr)\n",
    "x_init = torch.from_numpy( pinv(A_repr) @ y_repr)\n",
    "x0 = x_init.detach().clone()\n",
    "emax = np.max(abs(np.linalg.eig(A.T @ A)[0]))\n",
    "\n",
    "max_iter = 600\n",
    "alpha = 1\n",
    "thr = 40\n",
    "\n",
    "alpha /= emax\n",
    "\n",
    "# evaluate lista\n",
    "x_lista = pbnet(A_torch.to('cpu'), alpha, thr, x0.to('cpu'), y_torch.to('cpu'), max_iter, testFlag=True).detach().cpu().numpy()\n",
    "\n",
    "# Convert back to complex form\n",
    "S_lista = np.zeros(N, dtype=complex)\n",
    "S_lista.real = x_lista[:N, 0]\n",
    "S_lista.imag = x_lista[N:, 0]\n",
    "S_lista = np.abs(S_lista)\n",
    "S_lista = S_lista / S_lista.max()\n",
    "\n",
    "# Plot\n",
    "zoom_space = 0.01\n",
    "plt.rcParams.update({'font.size': 16})\n",
    "fig, ax = plt.subplots(figsize=(6,4))\n",
    "\n",
    "ax.plot(fft.fftshift(fgrid), fft.fftshift(S_lista), linewidth=2, label='Frequency representation')\n",
    "y1, y2 = ax.get_ylim()\n",
    "ax.vlines(th, linestyle='--', ymin=0, ymax=y2, color='k', label='True frequency')\n",
    "ax.set_ylim(0, y2)\n",
    "ax.set_xlabel('Frequency')\n",
    "ax.set_title('Regularized $l_1$ (LISTA)')\n",
    "ax.grid(color='#99AABB', linestyle=':')\n",
    "ax.set_facecolor('#CCDDEE')\n",
    "\n",
    "# Zoomed plot\n",
    "axins = ax.inset_axes([0.05, 0.5, 0.2, 0.4])\n",
    "axins.plot(fft.fftshift(fgrid), fft.fftshift(S_lista), linewidth=2, label='Frequency representation')\n",
    "y1, y2 = ax.get_ylim()\n",
    "axins.vlines(th, linestyle='--', ymin=y1, ymax=y2, color='k', label='True frequency')\n",
    "x1, x2 = th.min()-zoom_space, th.max()+zoom_space\n",
    "axins.set_xlim(x1, x2)\n",
    "axins.set_ylim(0, y2)\n",
    "axins.set_xticklabels('')\n",
    "axins.set_yticklabels('')\n",
    "axins.grid(color='#99AABB', linestyle=':')\n",
    "axins.set_facecolor('#CCDDEE')\n",
    "\n",
    "ax.indicate_inset_zoom(axins, edgecolor=\"k\")\n",
    "\n",
    "plt.tight_layout()\n",
    "plt.show()"
   ]
  },
  {
   "cell_type": "code",
   "execution_count": null,
   "id": "6112777b-7e86-470d-8ccb-319b0790d4ac",
   "metadata": {},
   "outputs": [],
   "source": []
  },
  {
   "cell_type": "code",
   "execution_count": null,
   "id": "7f160987-428b-4e5b-a813-360fe3617199",
   "metadata": {},
   "outputs": [],
   "source": []
  },
  {
   "cell_type": "code",
   "execution_count": null,
   "id": "d8b77ed3-5265-4019-9e01-dbd2aad8d3aa",
   "metadata": {},
   "outputs": [],
   "source": []
  }
 ],
 "metadata": {
  "kernelspec": {
   "display_name": "Python [conda env:torch-v1.1.0]",
   "language": "python",
   "name": "conda-env-torch-v1.1.0-py"
  },
  "language_info": {
   "codemirror_mode": {
    "name": "ipython",
    "version": 3
   },
   "file_extension": ".py",
   "mimetype": "text/x-python",
   "name": "python",
   "nbconvert_exporter": "python",
   "pygments_lexer": "ipython3",
   "version": "3.7.0"
  }
 },
 "nbformat": 4,
 "nbformat_minor": 5
}
